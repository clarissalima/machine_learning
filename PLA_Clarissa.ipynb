{
  "cells": [
    {
      "cell_type": "markdown",
      "metadata": {
        "id": "hxCePgpn5YJR"
      },
      "source": [
        "# <font color=\"darkblue\"> Prática 01: Perceptron Learning Algorithm (PLA) </font>\n",
        "\n",
        "\n"
      ]
    },
    {
      "cell_type": "markdown",
      "metadata": {
        "id": "YOOM3TfP5YG2"
      },
      "source": [
        "**Objetivos:**\n",
        "\n",
        "\n",
        "*   Entender o funcionamento do PLA e dos componentes de aprendizagem.\n",
        "*   Fixar o conceito de aprendizagem.\n",
        "\n"
      ]
    },
    {
      "cell_type": "markdown",
      "metadata": {
        "id": "B7-fH5fiGjvn"
      },
      "source": [
        "**Descrição:**\n",
        "\n",
        "Crie uma dataset $D$ com 1000 pontos e uma função alvo $f$ para compreender o funcionamento do PLA. Para visualizar os passos do algoritmo, considere $d=2$ e assuma $X=[-1,1]\\times[-1,1]$, em que $x\\in X$ é escolhido com probabilidade uniforme. Escolha uma reta como função alvo, em que um lado da reta seja mapeado para $+1$ e o outro para $-1$. Gere então pontos aleatórios $x_i$ e obtenha sua classificação $y_i$ a partir da função alvo. Divida os dados em um grupo de treinamento e outro de teste. \n",
        "\n",
        "Após a preparação dos dados, crie uma função $PLA()$ que inicia com os pesos todos iguais a zero e, a cada iteração, deixe o algoritmo escolher aleatoriamente um dos pontos com classificação incorreta até que ele convirja. Rode o PLA sobre amostras com $N=10$ e $N=100$, teste a hipótese solução a partir de pontos diferentes (conjunto de teste) daqueles das amostras e responda a seguinte questão:\n",
        "\n",
        "- Qual o percentual de pontos classificados corretamente para cada hipótese solução? \n",
        "\n",
        "\n",
        "\n",
        "\n",
        "\n",
        "\n",
        "\n",
        "\n"
      ]
    },
    {
      "cell_type": "markdown",
      "metadata": {
        "id": "Q6vEKdCpW7uu"
      },
      "source": [
        "# <font color=\"darkblue\"> Solução </font>\n"
      ]
    },
    {
      "cell_type": "markdown",
      "metadata": {
        "id": "xjQaS5NhV2gG"
      },
      "source": [
        "###  Preparação dos dos dados"
      ]
    },
    {
      "cell_type": "code",
      "execution_count": null,
      "metadata": {
        "id": "k2OXIQVwV6JK"
      },
      "outputs": [],
      "source": [
        "import numpy as np\n",
        "import matplotlib.pyplot as plt\n",
        "import random\n",
        "from IPython.display import clear_output\n",
        "\n",
        "N_PONTOS_TOTAL = 1000\n",
        "\n",
        "# Criando a reta\n",
        "n1, n2 = np.random.uniform(-1, 1, 2)\n",
        "p1 = [n1, n2]\n",
        "\n",
        "n1, n2 = np.random.uniform(-1, 1, 2)\n",
        "p2 = [n1, n2]\n",
        "\n",
        "# Coeficiente angular (m = (y2 -y1) / (x2 - x1))\n",
        "m = (p2[1] - p1[1]) / (p2[0] - p1[0])\n",
        "\n",
        "# Coeficiente linear (b = y - mx)\n",
        "b = p1[1] - m*p1[0]\n",
        "\n",
        "data = [] # dataset\n",
        "y = []\n",
        "for i in range(N_PONTOS_TOTAL):\n",
        "    n1, n2 = np.random.uniform(-1, 1, 2)\n",
        "    x = [n1, n2]\n",
        "    data.append(x)\n",
        "    \n",
        "    # Funcao alvo\n",
        "    f_x = m * n1 + b \n",
        "    \n",
        "    # Mapeia os pontos de acordo com a reta\n",
        "    if ( (aux := np.sign(m*n1 - n2 + b)) != 0):    \n",
        "        y.append(aux) # Equacao geral da reta"
      ]
    },
    {
      "cell_type": "markdown",
      "metadata": {
        "id": "8ZkoSyK2CkF1"
      },
      "source": [
        "### Visualizando o dataset"
      ]
    },
    {
      "cell_type": "code",
      "execution_count": null,
      "metadata": {
        "colab": {
          "base_uri": "https://localhost:8080/",
          "height": 265
        },
        "id": "-dGJuDTiz2W9",
        "outputId": "9236cfbb-7eeb-42ae-ff05-09c95a5b7bbc"
      },
      "outputs": [
        {
          "output_type": "display_data",
          "data": {
            "text/plain": [
              "<Figure size 432x288 with 1 Axes>"
            ],
            "image/png": "[encoded data removed]"
          },
          "metadata": {
            "needs_background": "light"
          }
        }
      ],
      "source": [
        "line = np.linspace(-1, 1, 1000) \n",
        "plt.plot(line, m*line + b, label=\"f(x)\", c=\"green\")\n",
        "\n",
        "# Pontos usados na criacao da reta\n",
        "plt.scatter(p1[0], p1[1], c='green')\n",
        "plt.scatter(p2[0], p2[1], c='green')\n",
        "\n",
        "for i in range(len(data[:200])):\n",
        "    if (y[i] == 1):\n",
        "        plt.scatter(data[i][0], data[i][1], c='blue')\n",
        "    else:        \n",
        "        plt.scatter(data[i][0], data[i][1], c='red')\n",
        "\n",
        "plt.show()    "
      ]
    },
    {
      "cell_type": "markdown",
      "metadata": {
        "id": "xyP4KkN8WWgn"
      },
      "source": [
        "### Algoritmo PLA"
      ]
    },
    {
      "cell_type": "code",
      "source": [
        "def algoritmo_PLA(X, Y):\n",
        "    w = [0, 0, 0]\n",
        "    erros = True\n",
        "\n",
        "    while erros:\n",
        "        erros = False\n",
        "\n",
        "        for i in range(len(X)):\n",
        "            xi = [1] + X[i]\n",
        "            yi = Y[i]\n",
        "\n",
        "            if np.sign(np.dot(w, xi)) != np.sign(yi):\n",
        "                w = np.add(w, np.dot(yi, xi))\n",
        "                erros = True\n",
        "\n",
        "    return w\n"
      ],
      "metadata": {
        "id": "FbtRyM9IAygK"
      },
      "execution_count": 1,
      "outputs": []
    },
    {
      "cell_type": "markdown",
      "metadata": {
        "id": "008h3gu8Ybzb"
      },
      "source": [
        "### Função para visualização dos passos do PLA"
      ]
    },
    {
      "cell_type": "code",
      "execution_count": null,
      "metadata": {
        "id": "iRl4_hzlYjMG"
      },
      "outputs": [],
      "source": [
        "%matplotlib inline\n",
        "def plotGrafico(data, w, y, f):    \n",
        "    nPontos = len(data)    \n",
        "    #matplotlib.use('TkAgg')    \n",
        "            \n",
        "    ax = plt.gca()\n",
        "    ax.spines['top'].set_color('none')\n",
        "    ax.spines['bottom'].set_position('zero')\n",
        "    ax.spines['left'].set_position('zero')\n",
        "    ax.spines['right'].set_color('none')\n",
        "\n",
        "    plt.axis([-1, 1, -1, 1])\n",
        "\n",
        "    x_plt = [data[i][0] for i in range(nPontos)]\n",
        "    y_plt = [data[i][1] for i in range(nPontos)]\n",
        "\n",
        "    for i in range(nPontos):\n",
        "        if (y[i] == 1):\n",
        "            plt.scatter(x_plt[i], y_plt[i], s=10, c='blue')\n",
        "        else:\n",
        "            plt.scatter(x_plt[i], y_plt[i], s=10, c='red')\n",
        "\n",
        "    x = np.linspace(-1, 1, 1000)\n",
        "    plt.plot(x, f[0]*x + f[1], c='green') # f[0] = m, f[1] = b\n",
        "    plt.plot(x, (-w[0] - w[1]*x) / w[2], c='orange') # A*x + B*y + C => y = (-C - A*x) / B\n",
        "    clear_output(wait=True)    \n",
        "    plt.show(block=False)    \n",
        "    plt.pause(0.01)  \n"
      ]
    },
    {
      "cell_type": "markdown",
      "metadata": {
        "id": "azzzLIzWZdDu"
      },
      "source": [
        "### Função para construir lista de pontos classificados incorretamente"
      ]
    },
    {
      "cell_type": "code",
      "execution_count": 2,
      "metadata": {
        "id": "H6cIgZ_8ZjAp"
      },
      "outputs": [],
      "source": [
        "def constroiListaPCI(X, Y, w):\n",
        "    incorretos = []\n",
        "    \n",
        "    for i in range(len(X)):\n",
        "        xi = [1] + X[i]\n",
        "        yi = Y[i]\n",
        "        \n",
        "        if np.sign(np.dot(w, xi)) != np.sign(yi):\n",
        "            incorretos.append(i)\n",
        "    \n",
        "    return np.array(incorretos)\n"
      ]
    },
    {
      "cell_type": "markdown",
      "metadata": {
        "id": "CArSxezbZs5G"
      },
      "source": [
        "### Calculando a acurácia"
      ]
    },
    {
      "cell_type": "code",
      "execution_count": 11,
      "metadata": {
        "id": "vLJVZv_2z2XC"
      },
      "outputs": [],
      "source": [
        "def separa_dados_treino_teste(X, Y, proporcao_teste):\n",
        "    n_teste = int(proporcao_teste * len(X))\n",
        "    indices_aleatorios = np.random.permutation(len(X))\n",
        "    indices_teste = indices_aleatorios[:n_teste]\n",
        "    indices_treino = indices_aleatorios[n_teste:]\n",
        "    X_treino = X[indices_treino]\n",
        "    Y_treino = Y[indices_treino]\n",
        "    X_teste = X[indices_teste]\n",
        "    Y_teste = Y[indices_teste]\n",
        "    return X_treino, Y_treino, X_teste, Y_teste\n",
        "\n",
        "def dados_treino_teste(X, Y, proporcao_teste):\n",
        "    n_amostras, n_caracteristicas = X.shape\n",
        "    X_com_bias = np.hstack((np.ones((n_amostras, 1)), X))\n",
        "    dados = np.hstack((X_com_bias, Y.reshape(-1, 1)))\n",
        "    np.random.shuffle(dados)\n",
        "    indice_separacao = int((1 - proporcao_teste) * n_amostras)\n",
        "    dados_treino, dados_teste = dados[:indice_separacao], dados[indice_separacao:]\n",
        "    X_treino, Y_treino = dados_treino[:, :-1], dados_treino[:, -1]\n",
        "    X_teste, Y_teste = dados_teste[:, :-1], dados_teste[:, -1]\n",
        "    return X_treino, Y_treino, X_teste, Y_teste\n",
        "\n",
        "def transforma_dados(X, y):\n",
        "    N = len(X)\n",
        "    X_transformado = np.hstack((np.ones((N, 1)), X))\n",
        "    y_transformado = np.array(y)\n",
        "    return X_transformado, y_transformado\n",
        "\n"
      ]
    },
    {
      "cell_type": "code",
      "source": [
        "def transforma_dados(X, Y):\n",
        "    N = len(X)\n",
        "    X_transformado = np.hstack((np.ones((N, 1)), X))\n",
        "    Y_transformado = np.array(Y)\n",
        "    return X_transformado, Y_transformado\n"
      ],
      "metadata": {
        "id": "XycJ5REN5dHP"
      },
      "execution_count": 12,
      "outputs": []
    }
  ],
  "metadata": {
    "colab": {
      "collapsed_sections": [
        "xjQaS5NhV2gG",
        "8ZkoSyK2CkF1",
        "008h3gu8Ybzb"
      ],
      "provenance": []
    },
    "kernelspec": {
      "display_name": "Python 3 (ipykernel)",
      "language": "python",
      "name": "python3"
    },
    "language_info": {
      "codemirror_mode": {
        "name": "ipython",
        "version": 3
      },
      "file_extension": ".py",
      "mimetype": "text/x-python",
      "name": "python",
      "nbconvert_exporter": "python",
      "pygments_lexer": "ipython3",
      "version": "3.10.6"
    }
  },
  "nbformat": 4,
  "nbformat_minor": 0
}