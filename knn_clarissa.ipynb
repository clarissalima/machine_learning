{
  "cells": [
    {
      "cell_type": "markdown",
      "metadata": {
        "id": "0JFhnlk7at7A"
      },
      "source": [
        "# <font color=\"darkblue\"> Prática 02: Algoritmo k-NN </font>"
      ]
    },
    {
      "cell_type": "markdown",
      "metadata": {
        "id": "_Txy0UzyawTX"
      },
      "source": [
        "**Objetivos:**\n",
        "\n",
        "\n",
        "*   Aplicar o algoritmo k-NN a um problema prático.\n",
        "*   Apresentar as funções do Scikit-Learn que lidam com o k-NN.\n",
        "\n"
      ]
    },
    {
      "cell_type": "markdown",
      "metadata": {
        "id": "keyryvT2bIae"
      },
      "source": [
        "**Descrição:**\n",
        "\n",
        "Implemente duas versões de um classificador usando o algoritmo k-NN que identifica dígitos escritos à mão a partir de um conjunto de imagens. Utilize o dataset <i> Digits </i> da biblioteca Scikit-Learn. Na primeira versão, você implementará o algoritmo de classificação do zero, enquanto que na segunda você deverá utilizar a biblioteca Scikit-Learn para realizar a classificação. Ao final, compare as acurácias obtidas e o tempo de execução de cada versão."
      ]
    },
    {
      "cell_type": "markdown",
      "metadata": {
        "id": "wWnD-OFybVw1"
      },
      "source": [
        "# <font color=\"darkblue\"> Solução </font>"
      ]
    },
    {
      "cell_type": "markdown",
      "metadata": {
        "id": "ioVFway7cWiw"
      },
      "source": [
        "### Descrição do Dataset"
      ]
    },
    {
      "cell_type": "code",
      "execution_count": null,
      "metadata": {
        "id": "Lh0fUl5BbR5J",
        "colab": {
          "base_uri": "https://localhost:8080/"
        },
        "outputId": "ceec91aa-1934-46c3-f3d4-1953404ca18d"
      },
      "outputs": [
        {
          "output_type": "stream",
          "name": "stdout",
          "text": [
            ".. _digits_dataset:\n",
            "\n",
            "Optical recognition of handwritten digits dataset\n",
            "--------------------------------------------------\n",
            "\n",
            "**Data Set Characteristics:**\n",
            "\n",
            "    :Number of Instances: 1797\n",
            "    :Number of Attributes: 64\n",
            "    :Attribute Information: 8x8 image of integer pixels in the range 0..16.\n",
            "    :Missing Attribute Values: None\n",
            "    :Creator: E. Alpaydin (alpaydin '@' boun.edu.tr)\n",
            "    :Date: July; 1998\n",
            "\n",
            "This is a copy of the test set of the UCI ML hand-written digits datasets\n",
            "https://archive.ics.uci.edu/ml/datasets/Optical+Recognition+of+Handwritten+Digits\n",
            "\n",
            "The data set contains images of hand-written digits: 10 classes where\n",
            "each class refers to a digit.\n",
            "\n",
            "Preprocessing programs made available by NIST were used to extract\n",
            "normalized bitmaps of handwritten digits from a preprinted form. From a\n",
            "total of 43 people, 30 contributed to the training set and different 13\n",
            "to the test set. 32x32 bitmaps are divided into nonoverlapping blocks of\n",
            "4x4 and the number of on pixels are counted in each block. This generates\n",
            "an input matrix of 8x8 where each element is an integer in the range\n",
            "0..16. This reduces dimensionality and gives invariance to small\n",
            "distortions.\n",
            "\n",
            "For info on NIST preprocessing routines, see M. D. Garris, J. L. Blue, G.\n",
            "T. Candela, D. L. Dimmick, J. Geist, P. J. Grother, S. A. Janet, and C.\n",
            "L. Wilson, NIST Form-Based Handprint Recognition System, NISTIR 5469,\n",
            "1994.\n",
            "\n",
            ".. topic:: References\n",
            "\n",
            "  - C. Kaynak (1995) Methods of Combining Multiple Classifiers and Their\n",
            "    Applications to Handwritten Digit Recognition, MSc Thesis, Institute of\n",
            "    Graduate Studies in Science and Engineering, Bogazici University.\n",
            "  - E. Alpaydin, C. Kaynak (1998) Cascading Classifiers, Kybernetika.\n",
            "  - Ken Tang and Ponnuthurai N. Suganthan and Xi Yao and A. Kai Qin.\n",
            "    Linear dimensionalityreduction using relevance weighted LDA. School of\n",
            "    Electrical and Electronic Engineering Nanyang Technological University.\n",
            "    2005.\n",
            "  - Claudio Gentile. A New Approximate Maximal Margin Classification\n",
            "    Algorithm. NIPS. 2000.\n",
            "\n",
            "\n",
            "\n"
          ]
        }
      ],
      "source": [
        "#%matplotlib inline\n",
        "import matplotlib.pyplot as plt\n",
        "from sklearn.datasets import load_digits\n",
        "from sklearn.model_selection import train_test_split\n",
        "from sklearn.neighbors import KNeighborsClassifier\n",
        "import numpy as np\n",
        "\n",
        "digits = load_digits()\n",
        "\n",
        "# Conhecendo dataset \n",
        "print(digits.DESCR + \"\\n\\n\")"
      ]
    },
    {
      "cell_type": "markdown",
      "metadata": {
        "id": "_JtDQu4Bcp1X"
      },
      "source": [
        "### Exibição das imagens"
      ]
    },
    {
      "cell_type": "code",
      "execution_count": null,
      "metadata": {
        "colab": {
          "base_uri": "https://localhost:8080/",
          "height": 222
        },
        "id": "5_8VQTOfb3c9",
        "outputId": "bbc8d127-c3d7-4091-be16-d18f732b7ef5"
      },
      "outputs": [
        {
          "output_type": "stream",
          "name": "stdout",
          "text": [
            "opa\n",
            "opa\n",
            "opa\n",
            "opa\n"
          ]
        },
        {
          "output_type": "display_data",
          "data": {
            "text/plain": [
              "<Figure size 144x144 with 4 Axes>"
            ],
            "image/png": "[encoded data removed]"
          },
          "metadata": {}
        }
      ],
      "source": [
        "figure, axes = plt.subplots(nrows=2, ncols=2, figsize=(2, 2))\n",
        "\n",
        "for item in zip(axes.ravel(), digits.images, digits.target):\n",
        "    print(\"opa\")\n",
        "    axes, image, target = item\n",
        "    axes.imshow(image, cmap=plt.cm.gray_r)\n",
        "    axes.set_xticks([]) \n",
        "    axes.set_yticks([])  \n",
        "    axes.set_title(target)\n",
        "    \n",
        "# usado para um numero nao ficar em cima do outro        \n",
        "plt.tight_layout() "
      ]
    },
    {
      "cell_type": "markdown",
      "metadata": {
        "id": "8d8JkaJKcv9O"
      },
      "source": [
        "### Implementação do classificador"
      ]
    },
    {
      "cell_type": "code",
      "execution_count": null,
      "metadata": {
        "id": "4uvAVl5Cc6nc",
        "colab": {
          "base_uri": "https://localhost:8080/"
        },
        "outputId": "936f49aa-5da2-47e3-d26e-abda368a4502"
      },
      "outputs": [
        {
          "output_type": "stream",
          "name": "stdout",
          "text": [
            "(1797, 64)\n",
            "(1797,)\n",
            "8\n",
            "8\n"
          ]
        }
      ],
      "source": [
        "# primeira versão\n",
        "import statistics\n",
        "x = digits.data\n",
        "y = digits.target\n",
        "print(x.shape)\n",
        "print(y.shape)\n",
        "\n",
        "def distancia (imagem, x, p): \n",
        "  lista = list()\n",
        "  for i in x :\n",
        "    lista.append((sum(i - imagem) **p) ** 1/p)\n",
        "  return lista\n",
        "  \n",
        "def knn (imagem, k=3, p=10):\n",
        "  distancias = distancia(imagem, x, p)\n",
        "  std = np.argsort(distancias)[:k]\n",
        "\n",
        "  l = list()\n",
        "                  \n",
        "  for i in std: \n",
        "    l.append(y[i])\n",
        "  return statistics.mode(l)\n",
        "\n",
        "print(knn(x[-1]))\n",
        "\n",
        "print(y[-1])\n"
      ]
    },
    {
      "cell_type": "code",
      "source": [
        "#segunda versão\n",
        "from sklearn.neighbors import KNeighborsClassifier\n",
        "from sklearn.model_selection import train_test_split\n",
        "from sklearn.metrics import accuracy_score\n",
        "from sklearn.datasets import load_digits\n",
        "\n",
        "digitos = load_digits()\n",
        "\n",
        "x_treino, x_teste, y_treino, y_teste = train_test_split(digitos.data, digitos.target, test_size=0.2, random_state=42)\n",
        "\n",
        "classificador = KNeighborsClassifier(n_neighbors=5)\n",
        "\n",
        "classificador.fit(x_treino, y_treino)\n",
        "\n",
        "y_predito = classificador.predict(x_teste)\n",
        "\n",
        "acuracia = accuracy_score(y_teste, y_predito)\n",
        "\n",
        "print(f\"A acurácia é de {acuracia*100:.2f}%\")"
      ],
      "metadata": {
        "colab": {
          "base_uri": "https://localhost:8080/"
        },
        "id": "1wemcZ_ceVXU",
        "outputId": "a3d1681e-8d8f-4b04-e13e-8fa709e5780b"
      },
      "execution_count": 5,
      "outputs": [
        {
          "output_type": "stream",
          "name": "stdout",
          "text": [
            "A acurácia é de 98.61%\n"
          ]
        }
      ]
    }
  ],
  "metadata": {
    "colab": {
      "provenance": []
    },
    "kernelspec": {
      "display_name": "Python 3 (ipykernel)",
      "language": "python",
      "name": "python3"
    },
    "language_info": {
      "codemirror_mode": {
        "name": "ipython",
        "version": 3
      },
      "file_extension": ".py",
      "mimetype": "text/x-python",
      "name": "python",
      "nbconvert_exporter": "python",
      "pygments_lexer": "ipython3",
      "version": "3.10.6"
    }
  },
  "nbformat": 4,
  "nbformat_minor": 0
}